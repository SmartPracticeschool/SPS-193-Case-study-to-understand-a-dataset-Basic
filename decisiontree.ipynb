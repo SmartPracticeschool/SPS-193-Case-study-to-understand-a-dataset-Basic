{
 "cells": [
  {
   "cell_type": "code",
   "execution_count": 1,
   "metadata": {},
   "outputs": [],
   "source": [
    "import numpy as np\n",
    "import pandas as pd\n",
    "import seaborn as sns\n",
    "import matplotlib.pyplot as plt"
   ]
  },
  {
   "cell_type": "code",
   "execution_count": 2,
   "metadata": {},
   "outputs": [
    {
     "data": {
      "text/html": [
       "<div>\n",
       "<style scoped>\n",
       "    .dataframe tbody tr th:only-of-type {\n",
       "        vertical-align: middle;\n",
       "    }\n",
       "\n",
       "    .dataframe tbody tr th {\n",
       "        vertical-align: top;\n",
       "    }\n",
       "\n",
       "    .dataframe thead th {\n",
       "        text-align: right;\n",
       "    }\n",
       "</style>\n",
       "<table border=\"1\" class=\"dataframe\">\n",
       "  <thead>\n",
       "    <tr style=\"text-align: right;\">\n",
       "      <th></th>\n",
       "      <th>ride_id</th>\n",
       "      <th>rideable_type</th>\n",
       "      <th>started_at</th>\n",
       "      <th>ended_at</th>\n",
       "      <th>start_station_name</th>\n",
       "      <th>start_station_id</th>\n",
       "      <th>end_station_name</th>\n",
       "      <th>end_station_id</th>\n",
       "      <th>start_lat</th>\n",
       "      <th>start_lng</th>\n",
       "      <th>end_lat</th>\n",
       "      <th>end_lng</th>\n",
       "      <th>member_casual</th>\n",
       "    </tr>\n",
       "  </thead>\n",
       "  <tbody>\n",
       "    <tr>\n",
       "      <th>0</th>\n",
       "      <td>16A86B048B01DE6F</td>\n",
       "      <td>docked_bike</td>\n",
       "      <td>2020-06-10 20:20:36</td>\n",
       "      <td>2020-06-10 20:27:28</td>\n",
       "      <td>Edgewood Rec Center</td>\n",
       "      <td>642.0</td>\n",
       "      <td>Rhode Island Ave Metro</td>\n",
       "      <td>368.0</td>\n",
       "      <td>38.924144</td>\n",
       "      <td>-77.002098</td>\n",
       "      <td>38.920682</td>\n",
       "      <td>-76.995876</td>\n",
       "      <td>member</td>\n",
       "    </tr>\n",
       "    <tr>\n",
       "      <th>1</th>\n",
       "      <td>661EA082175DB7E9</td>\n",
       "      <td>docked_bike</td>\n",
       "      <td>2020-06-23 06:31:23</td>\n",
       "      <td>2020-06-23 06:58:35</td>\n",
       "      <td>Wisconsin Ave &amp; O St NW</td>\n",
       "      <td>289.0</td>\n",
       "      <td>Edgewood Rec Center</td>\n",
       "      <td>642.0</td>\n",
       "      <td>38.908490</td>\n",
       "      <td>-77.063586</td>\n",
       "      <td>38.924144</td>\n",
       "      <td>-77.002098</td>\n",
       "      <td>member</td>\n",
       "    </tr>\n",
       "    <tr>\n",
       "      <th>2</th>\n",
       "      <td>15C659A06C439B74</td>\n",
       "      <td>docked_bike</td>\n",
       "      <td>2020-06-06 11:49:29</td>\n",
       "      <td>2020-06-06 11:49:38</td>\n",
       "      <td>19th &amp; K St NW</td>\n",
       "      <td>269.0</td>\n",
       "      <td>19th &amp; K St NW</td>\n",
       "      <td>269.0</td>\n",
       "      <td>38.902204</td>\n",
       "      <td>-77.043370</td>\n",
       "      <td>38.902204</td>\n",
       "      <td>-77.043370</td>\n",
       "      <td>member</td>\n",
       "    </tr>\n",
       "    <tr>\n",
       "      <th>3</th>\n",
       "      <td>59AD75CFBF96DEC1</td>\n",
       "      <td>docked_bike</td>\n",
       "      <td>2020-06-06 11:52:51</td>\n",
       "      <td>2020-06-06 12:21:49</td>\n",
       "      <td>19th &amp; K St NW</td>\n",
       "      <td>269.0</td>\n",
       "      <td>10th &amp; K St NW</td>\n",
       "      <td>199.0</td>\n",
       "      <td>38.902204</td>\n",
       "      <td>-77.043370</td>\n",
       "      <td>38.902400</td>\n",
       "      <td>-77.026220</td>\n",
       "      <td>member</td>\n",
       "    </tr>\n",
       "    <tr>\n",
       "      <th>4</th>\n",
       "      <td>06F6881BEFCFC106</td>\n",
       "      <td>docked_bike</td>\n",
       "      <td>2020-06-07 15:25:45</td>\n",
       "      <td>2020-06-07 17:15:28</td>\n",
       "      <td>37th &amp; O St NW / Georgetown University</td>\n",
       "      <td>152.0</td>\n",
       "      <td>Georgetown Harbor / 30th St NW</td>\n",
       "      <td>102.0</td>\n",
       "      <td>38.907740</td>\n",
       "      <td>-77.071652</td>\n",
       "      <td>38.902221</td>\n",
       "      <td>-77.059219</td>\n",
       "      <td>casual</td>\n",
       "    </tr>\n",
       "  </tbody>\n",
       "</table>\n",
       "</div>"
      ],
      "text/plain": [
       "            ride_id rideable_type           started_at             ended_at  \\\n",
       "0  16A86B048B01DE6F   docked_bike  2020-06-10 20:20:36  2020-06-10 20:27:28   \n",
       "1  661EA082175DB7E9   docked_bike  2020-06-23 06:31:23  2020-06-23 06:58:35   \n",
       "2  15C659A06C439B74   docked_bike  2020-06-06 11:49:29  2020-06-06 11:49:38   \n",
       "3  59AD75CFBF96DEC1   docked_bike  2020-06-06 11:52:51  2020-06-06 12:21:49   \n",
       "4  06F6881BEFCFC106   docked_bike  2020-06-07 15:25:45  2020-06-07 17:15:28   \n",
       "\n",
       "                       start_station_name  start_station_id  \\\n",
       "0                     Edgewood Rec Center             642.0   \n",
       "1                 Wisconsin Ave & O St NW             289.0   \n",
       "2                          19th & K St NW             269.0   \n",
       "3                          19th & K St NW             269.0   \n",
       "4  37th & O St NW / Georgetown University             152.0   \n",
       "\n",
       "                 end_station_name  end_station_id  start_lat  start_lng  \\\n",
       "0          Rhode Island Ave Metro           368.0  38.924144 -77.002098   \n",
       "1             Edgewood Rec Center           642.0  38.908490 -77.063586   \n",
       "2                  19th & K St NW           269.0  38.902204 -77.043370   \n",
       "3                  10th & K St NW           199.0  38.902204 -77.043370   \n",
       "4  Georgetown Harbor / 30th St NW           102.0  38.907740 -77.071652   \n",
       "\n",
       "     end_lat    end_lng member_casual  \n",
       "0  38.920682 -76.995876        member  \n",
       "1  38.924144 -77.002098        member  \n",
       "2  38.902204 -77.043370        member  \n",
       "3  38.902400 -77.026220        member  \n",
       "4  38.902221 -77.059219        casual  "
      ]
     },
     "execution_count": 2,
     "metadata": {},
     "output_type": "execute_result"
    }
   ],
   "source": [
    "dataset=pd.read_csv('202006-capitalbikeshare-tripdata.csv')\n",
    "dataset.head()"
   ]
  },
  {
   "cell_type": "code",
   "execution_count": 3,
   "metadata": {},
   "outputs": [
    {
     "data": {
      "text/plain": [
       "ride_id               213995\n",
       "rideable_type         213995\n",
       "started_at            213995\n",
       "ended_at              213995\n",
       "start_station_name    213943\n",
       "start_station_id      213943\n",
       "end_station_name      212884\n",
       "end_station_id        212884\n",
       "start_lat             213995\n",
       "start_lng             213995\n",
       "end_lat               212936\n",
       "end_lng               212936\n",
       "member_casual         213995\n",
       "dtype: int64"
      ]
     },
     "execution_count": 3,
     "metadata": {},
     "output_type": "execute_result"
    }
   ],
   "source": [
    "dataset.count()"
   ]
  },
  {
   "cell_type": "code",
   "execution_count": 4,
   "metadata": {},
   "outputs": [
    {
     "data": {
      "text/plain": [
       "array(['docked_bike', 'electric_bike'], dtype=object)"
      ]
     },
     "execution_count": 4,
     "metadata": {},
     "output_type": "execute_result"
    }
   ],
   "source": [
    "dataset['rideable_type'].unique()"
   ]
  },
  {
   "cell_type": "code",
   "execution_count": 5,
   "metadata": {},
   "outputs": [
    {
     "data": {
      "text/plain": [
       "array(['member', 'casual'], dtype=object)"
      ]
     },
     "execution_count": 5,
     "metadata": {},
     "output_type": "execute_result"
    }
   ],
   "source": [
    "dataset['member_casual'].unique()"
   ]
  },
  {
   "cell_type": "code",
   "execution_count": 6,
   "metadata": {},
   "outputs": [
    {
     "data": {
      "text/plain": [
       "ride_id                  0\n",
       "rideable_type            0\n",
       "started_at               0\n",
       "ended_at                 0\n",
       "start_station_name      52\n",
       "start_station_id        52\n",
       "end_station_name      1111\n",
       "end_station_id        1111\n",
       "start_lat                0\n",
       "start_lng                0\n",
       "end_lat               1059\n",
       "end_lng               1059\n",
       "member_casual            0\n",
       "dtype: int64"
      ]
     },
     "execution_count": 6,
     "metadata": {},
     "output_type": "execute_result"
    }
   ],
   "source": [
    "dataset.isnull().sum()"
   ]
  },
  {
   "cell_type": "code",
   "execution_count": 7,
   "metadata": {},
   "outputs": [
    {
     "data": {
      "text/plain": [
       "<matplotlib.axes._subplots.AxesSubplot at 0x158346870c8>"
      ]
     },
     "execution_count": 7,
     "metadata": {},
     "output_type": "execute_result"
    },
    {
     "data": {
      "image/png": "[encoded data removed]",
      "text/plain": [
       "<Figure size 432x288 with 2 Axes>"
      ]
     },
     "metadata": {
      "needs_background": "light"
     },
     "output_type": "display_data"
    }
   ],
   "source": [
    "sns.heatmap(dataset.isnull())"
   ]
  },
  {
   "cell_type": "code",
   "execution_count": 8,
   "metadata": {},
   "outputs": [],
   "source": [
    "dataset=dataset.drop(['start_station_name','end_station_name','ride_id'],axis=1)"
   ]
  },
  {
   "cell_type": "code",
   "execution_count": 9,
   "metadata": {},
   "outputs": [
    {
     "data": {
      "text/html": [
       "<div>\n",
       "<style scoped>\n",
       "    .dataframe tbody tr th:only-of-type {\n",
       "        vertical-align: middle;\n",
       "    }\n",
       "\n",
       "    .dataframe tbody tr th {\n",
       "        vertical-align: top;\n",
       "    }\n",
       "\n",
       "    .dataframe thead th {\n",
       "        text-align: right;\n",
       "    }\n",
       "</style>\n",
       "<table border=\"1\" class=\"dataframe\">\n",
       "  <thead>\n",
       "    <tr style=\"text-align: right;\">\n",
       "      <th></th>\n",
       "      <th>rideable_type</th>\n",
       "      <th>started_at</th>\n",
       "      <th>ended_at</th>\n",
       "      <th>start_station_id</th>\n",
       "      <th>end_station_id</th>\n",
       "      <th>start_lat</th>\n",
       "      <th>start_lng</th>\n",
       "      <th>end_lat</th>\n",
       "      <th>end_lng</th>\n",
       "      <th>member_casual</th>\n",
       "    </tr>\n",
       "  </thead>\n",
       "  <tbody>\n",
       "    <tr>\n",
       "      <th>0</th>\n",
       "      <td>docked_bike</td>\n",
       "      <td>2020-06-10 20:20:36</td>\n",
       "      <td>2020-06-10 20:27:28</td>\n",
       "      <td>642.0</td>\n",
       "      <td>368.0</td>\n",
       "      <td>38.924144</td>\n",
       "      <td>-77.002098</td>\n",
       "      <td>38.920682</td>\n",
       "      <td>-76.995876</td>\n",
       "      <td>member</td>\n",
       "    </tr>\n",
       "    <tr>\n",
       "      <th>1</th>\n",
       "      <td>docked_bike</td>\n",
       "      <td>2020-06-23 06:31:23</td>\n",
       "      <td>2020-06-23 06:58:35</td>\n",
       "      <td>289.0</td>\n",
       "      <td>642.0</td>\n",
       "      <td>38.908490</td>\n",
       "      <td>-77.063586</td>\n",
       "      <td>38.924144</td>\n",
       "      <td>-77.002098</td>\n",
       "      <td>member</td>\n",
       "    </tr>\n",
       "    <tr>\n",
       "      <th>2</th>\n",
       "      <td>docked_bike</td>\n",
       "      <td>2020-06-06 11:49:29</td>\n",
       "      <td>2020-06-06 11:49:38</td>\n",
       "      <td>269.0</td>\n",
       "      <td>269.0</td>\n",
       "      <td>38.902204</td>\n",
       "      <td>-77.043370</td>\n",
       "      <td>38.902204</td>\n",
       "      <td>-77.043370</td>\n",
       "      <td>member</td>\n",
       "    </tr>\n",
       "    <tr>\n",
       "      <th>3</th>\n",
       "      <td>docked_bike</td>\n",
       "      <td>2020-06-06 11:52:51</td>\n",
       "      <td>2020-06-06 12:21:49</td>\n",
       "      <td>269.0</td>\n",
       "      <td>199.0</td>\n",
       "      <td>38.902204</td>\n",
       "      <td>-77.043370</td>\n",
       "      <td>38.902400</td>\n",
       "      <td>-77.026220</td>\n",
       "      <td>member</td>\n",
       "    </tr>\n",
       "    <tr>\n",
       "      <th>4</th>\n",
       "      <td>docked_bike</td>\n",
       "      <td>2020-06-07 15:25:45</td>\n",
       "      <td>2020-06-07 17:15:28</td>\n",
       "      <td>152.0</td>\n",
       "      <td>102.0</td>\n",
       "      <td>38.907740</td>\n",
       "      <td>-77.071652</td>\n",
       "      <td>38.902221</td>\n",
       "      <td>-77.059219</td>\n",
       "      <td>casual</td>\n",
       "    </tr>\n",
       "  </tbody>\n",
       "</table>\n",
       "</div>"
      ],
      "text/plain": [
       "  rideable_type           started_at             ended_at  start_station_id  \\\n",
       "0   docked_bike  2020-06-10 20:20:36  2020-06-10 20:27:28             642.0   \n",
       "1   docked_bike  2020-06-23 06:31:23  2020-06-23 06:58:35             289.0   \n",
       "2   docked_bike  2020-06-06 11:49:29  2020-06-06 11:49:38             269.0   \n",
       "3   docked_bike  2020-06-06 11:52:51  2020-06-06 12:21:49             269.0   \n",
       "4   docked_bike  2020-06-07 15:25:45  2020-06-07 17:15:28             152.0   \n",
       "\n",
       "   end_station_id  start_lat  start_lng    end_lat    end_lng member_casual  \n",
       "0           368.0  38.924144 -77.002098  38.920682 -76.995876        member  \n",
       "1           642.0  38.908490 -77.063586  38.924144 -77.002098        member  \n",
       "2           269.0  38.902204 -77.043370  38.902204 -77.043370        member  \n",
       "3           199.0  38.902204 -77.043370  38.902400 -77.026220        member  \n",
       "4           102.0  38.907740 -77.071652  38.902221 -77.059219        casual  "
      ]
     },
     "execution_count": 9,
     "metadata": {},
     "output_type": "execute_result"
    }
   ],
   "source": [
    "dataset.head()"
   ]
  },
  {
   "cell_type": "code",
   "execution_count": 10,
   "metadata": {},
   "outputs": [
    {
     "data": {
      "text/plain": [
       "<matplotlib.axes._subplots.AxesSubplot at 0x15835102a88>"
      ]
     },
     "execution_count": 10,
     "metadata": {},
     "output_type": "execute_result"
    },
    {
     "data": {
      "image/png": "[encoded data removed]",
      "text/plain": [
       "<Figure size 432x288 with 2 Axes>"
      ]
     },
     "metadata": {
      "needs_background": "light"
     },
     "output_type": "display_data"
    }
   ],
   "source": [
    "sns.heatmap(dataset.isnull())"
   ]
  },
  {
   "cell_type": "code",
   "execution_count": 11,
   "metadata": {},
   "outputs": [
    {
     "data": {
      "text/html": [
       "<div>\n",
       "<style scoped>\n",
       "    .dataframe tbody tr th:only-of-type {\n",
       "        vertical-align: middle;\n",
       "    }\n",
       "\n",
       "    .dataframe tbody tr th {\n",
       "        vertical-align: top;\n",
       "    }\n",
       "\n",
       "    .dataframe thead th {\n",
       "        text-align: right;\n",
       "    }\n",
       "</style>\n",
       "<table border=\"1\" class=\"dataframe\">\n",
       "  <thead>\n",
       "    <tr style=\"text-align: right;\">\n",
       "      <th></th>\n",
       "      <th>start_station_id</th>\n",
       "      <th>end_station_id</th>\n",
       "      <th>start_lat</th>\n",
       "      <th>start_lng</th>\n",
       "      <th>end_lat</th>\n",
       "      <th>end_lng</th>\n",
       "    </tr>\n",
       "  </thead>\n",
       "  <tbody>\n",
       "    <tr>\n",
       "      <th>count</th>\n",
       "      <td>213943.000000</td>\n",
       "      <td>212884.000000</td>\n",
       "      <td>213995.000000</td>\n",
       "      <td>213995.000000</td>\n",
       "      <td>212936.000000</td>\n",
       "      <td>212936.000000</td>\n",
       "    </tr>\n",
       "    <tr>\n",
       "      <th>mean</th>\n",
       "      <td>266.903371</td>\n",
       "      <td>266.179234</td>\n",
       "      <td>38.902436</td>\n",
       "      <td>-77.033882</td>\n",
       "      <td>38.901368</td>\n",
       "      <td>-77.033411</td>\n",
       "    </tr>\n",
       "    <tr>\n",
       "      <th>std</th>\n",
       "      <td>189.810019</td>\n",
       "      <td>189.126501</td>\n",
       "      <td>0.033546</td>\n",
       "      <td>0.037320</td>\n",
       "      <td>0.033158</td>\n",
       "      <td>0.037122</td>\n",
       "    </tr>\n",
       "    <tr>\n",
       "      <th>min</th>\n",
       "      <td>1.000000</td>\n",
       "      <td>1.000000</td>\n",
       "      <td>38.782633</td>\n",
       "      <td>-77.368416</td>\n",
       "      <td>38.782633</td>\n",
       "      <td>-77.368416</td>\n",
       "    </tr>\n",
       "    <tr>\n",
       "      <th>25%</th>\n",
       "      <td>103.000000</td>\n",
       "      <td>103.000000</td>\n",
       "      <td>38.888553</td>\n",
       "      <td>-77.047788</td>\n",
       "      <td>38.888251</td>\n",
       "      <td>-77.047494</td>\n",
       "    </tr>\n",
       "    <tr>\n",
       "      <th>50%</th>\n",
       "      <td>219.000000</td>\n",
       "      <td>218.000000</td>\n",
       "      <td>38.902400</td>\n",
       "      <td>-77.032224</td>\n",
       "      <td>38.902204</td>\n",
       "      <td>-77.032112</td>\n",
       "    </tr>\n",
       "    <tr>\n",
       "      <th>75%</th>\n",
       "      <td>433.000000</td>\n",
       "      <td>430.000000</td>\n",
       "      <td>38.915540</td>\n",
       "      <td>-77.015970</td>\n",
       "      <td>38.913046</td>\n",
       "      <td>-77.013917</td>\n",
       "    </tr>\n",
       "    <tr>\n",
       "      <th>max</th>\n",
       "      <td>672.000000</td>\n",
       "      <td>672.000000</td>\n",
       "      <td>39.126000</td>\n",
       "      <td>-76.825535</td>\n",
       "      <td>39.126000</td>\n",
       "      <td>-76.825535</td>\n",
       "    </tr>\n",
       "  </tbody>\n",
       "</table>\n",
       "</div>"
      ],
      "text/plain": [
       "       start_station_id  end_station_id      start_lat      start_lng  \\\n",
       "count     213943.000000   212884.000000  213995.000000  213995.000000   \n",
       "mean         266.903371      266.179234      38.902436     -77.033882   \n",
       "std          189.810019      189.126501       0.033546       0.037320   \n",
       "min            1.000000        1.000000      38.782633     -77.368416   \n",
       "25%          103.000000      103.000000      38.888553     -77.047788   \n",
       "50%          219.000000      218.000000      38.902400     -77.032224   \n",
       "75%          433.000000      430.000000      38.915540     -77.015970   \n",
       "max          672.000000      672.000000      39.126000     -76.825535   \n",
       "\n",
       "             end_lat        end_lng  \n",
       "count  212936.000000  212936.000000  \n",
       "mean       38.901368     -77.033411  \n",
       "std         0.033158       0.037122  \n",
       "min        38.782633     -77.368416  \n",
       "25%        38.888251     -77.047494  \n",
       "50%        38.902204     -77.032112  \n",
       "75%        38.913046     -77.013917  \n",
       "max        39.126000     -76.825535  "
      ]
     },
     "execution_count": 11,
     "metadata": {},
     "output_type": "execute_result"
    }
   ],
   "source": [
    "dataset.describe()"
   ]
  },
  {
   "cell_type": "code",
   "execution_count": 12,
   "metadata": {},
   "outputs": [],
   "source": [
    "dataset=dataset.drop(['started_at','ended_at'],axis=1)"
   ]
  },
  {
   "cell_type": "code",
   "execution_count": 13,
   "metadata": {},
   "outputs": [
    {
     "data": {
      "text/html": [
       "<div>\n",
       "<style scoped>\n",
       "    .dataframe tbody tr th:only-of-type {\n",
       "        vertical-align: middle;\n",
       "    }\n",
       "\n",
       "    .dataframe tbody tr th {\n",
       "        vertical-align: top;\n",
       "    }\n",
       "\n",
       "    .dataframe thead th {\n",
       "        text-align: right;\n",
       "    }\n",
       "</style>\n",
       "<table border=\"1\" class=\"dataframe\">\n",
       "  <thead>\n",
       "    <tr style=\"text-align: right;\">\n",
       "      <th></th>\n",
       "      <th>rideable_type</th>\n",
       "      <th>start_station_id</th>\n",
       "      <th>end_station_id</th>\n",
       "      <th>start_lat</th>\n",
       "      <th>start_lng</th>\n",
       "      <th>end_lat</th>\n",
       "      <th>end_lng</th>\n",
       "      <th>member_casual</th>\n",
       "    </tr>\n",
       "  </thead>\n",
       "  <tbody>\n",
       "    <tr>\n",
       "      <th>0</th>\n",
       "      <td>docked_bike</td>\n",
       "      <td>642.0</td>\n",
       "      <td>368.0</td>\n",
       "      <td>38.924144</td>\n",
       "      <td>-77.002098</td>\n",
       "      <td>38.920682</td>\n",
       "      <td>-76.995876</td>\n",
       "      <td>member</td>\n",
       "    </tr>\n",
       "    <tr>\n",
       "      <th>1</th>\n",
       "      <td>docked_bike</td>\n",
       "      <td>289.0</td>\n",
       "      <td>642.0</td>\n",
       "      <td>38.908490</td>\n",
       "      <td>-77.063586</td>\n",
       "      <td>38.924144</td>\n",
       "      <td>-77.002098</td>\n",
       "      <td>member</td>\n",
       "    </tr>\n",
       "    <tr>\n",
       "      <th>2</th>\n",
       "      <td>docked_bike</td>\n",
       "      <td>269.0</td>\n",
       "      <td>269.0</td>\n",
       "      <td>38.902204</td>\n",
       "      <td>-77.043370</td>\n",
       "      <td>38.902204</td>\n",
       "      <td>-77.043370</td>\n",
       "      <td>member</td>\n",
       "    </tr>\n",
       "    <tr>\n",
       "      <th>3</th>\n",
       "      <td>docked_bike</td>\n",
       "      <td>269.0</td>\n",
       "      <td>199.0</td>\n",
       "      <td>38.902204</td>\n",
       "      <td>-77.043370</td>\n",
       "      <td>38.902400</td>\n",
       "      <td>-77.026220</td>\n",
       "      <td>member</td>\n",
       "    </tr>\n",
       "    <tr>\n",
       "      <th>4</th>\n",
       "      <td>docked_bike</td>\n",
       "      <td>152.0</td>\n",
       "      <td>102.0</td>\n",
       "      <td>38.907740</td>\n",
       "      <td>-77.071652</td>\n",
       "      <td>38.902221</td>\n",
       "      <td>-77.059219</td>\n",
       "      <td>casual</td>\n",
       "    </tr>\n",
       "  </tbody>\n",
       "</table>\n",
       "</div>"
      ],
      "text/plain": [
       "  rideable_type  start_station_id  end_station_id  start_lat  start_lng  \\\n",
       "0   docked_bike             642.0           368.0  38.924144 -77.002098   \n",
       "1   docked_bike             289.0           642.0  38.908490 -77.063586   \n",
       "2   docked_bike             269.0           269.0  38.902204 -77.043370   \n",
       "3   docked_bike             269.0           199.0  38.902204 -77.043370   \n",
       "4   docked_bike             152.0           102.0  38.907740 -77.071652   \n",
       "\n",
       "     end_lat    end_lng member_casual  \n",
       "0  38.920682 -76.995876        member  \n",
       "1  38.924144 -77.002098        member  \n",
       "2  38.902204 -77.043370        member  \n",
       "3  38.902400 -77.026220        member  \n",
       "4  38.902221 -77.059219        casual  "
      ]
     },
     "execution_count": 13,
     "metadata": {},
     "output_type": "execute_result"
    }
   ],
   "source": [
    "dataset.head()"
   ]
  },
  {
   "cell_type": "code",
   "execution_count": 14,
   "metadata": {},
   "outputs": [
    {
     "data": {
      "text/plain": [
       "rideable_type          0\n",
       "start_station_id      52\n",
       "end_station_id      1111\n",
       "start_lat              0\n",
       "start_lng              0\n",
       "end_lat             1059\n",
       "end_lng             1059\n",
       "member_casual          0\n",
       "dtype: int64"
      ]
     },
     "execution_count": 14,
     "metadata": {},
     "output_type": "execute_result"
    }
   ],
   "source": [
    "dataset.isnull().sum()"
   ]
  },
  {
   "cell_type": "code",
   "execution_count": 15,
   "metadata": {},
   "outputs": [],
   "source": [
    "dataset['end_lat']=dataset['end_lat'].fillna(np.mean(dataset['end_lat']))\n",
    "dataset['end_lng']=dataset['end_lng'].fillna(np.mean(dataset['end_lng']))"
   ]
  },
  {
   "cell_type": "code",
   "execution_count": 16,
   "metadata": {},
   "outputs": [
    {
     "data": {
      "text/plain": [
       "rideable_type          0\n",
       "start_station_id      52\n",
       "end_station_id      1111\n",
       "start_lat              0\n",
       "start_lng              0\n",
       "end_lat                0\n",
       "end_lng                0\n",
       "member_casual          0\n",
       "dtype: int64"
      ]
     },
     "execution_count": 16,
     "metadata": {},
     "output_type": "execute_result"
    }
   ],
   "source": [
    "dataset.isnull().sum()"
   ]
  },
  {
   "cell_type": "code",
   "execution_count": 17,
   "metadata": {},
   "outputs": [
    {
     "data": {
      "text/plain": [
       "<matplotlib.axes._subplots.AxesSubplot at 0x158358a3248>"
      ]
     },
     "execution_count": 17,
     "metadata": {},
     "output_type": "execute_result"
    },
    {
     "data": {
      "image/png": "[encoded data removed]",
      "text/plain": [
       "<Figure size 432x288 with 2 Axes>"
      ]
     },
     "metadata": {
      "needs_background": "light"
     },
     "output_type": "display_data"
    }
   ],
   "source": [
    "sns.heatmap(dataset.isnull())"
   ]
  },
  {
   "cell_type": "code",
   "execution_count": 18,
   "metadata": {},
   "outputs": [],
   "source": [
    "dataset['start_station_id']=dataset['start_station_id'].fillna(dataset['start_station_id'].value_counts().index[0])\n",
    "dataset['end_station_id']=dataset['end_station_id'].fillna(dataset['end_station_id'].value_counts().index[0])"
   ]
  },
  {
   "cell_type": "code",
   "execution_count": 19,
   "metadata": {},
   "outputs": [
    {
     "data": {
      "text/plain": [
       "rideable_type       0\n",
       "start_station_id    0\n",
       "end_station_id      0\n",
       "start_lat           0\n",
       "start_lng           0\n",
       "end_lat             0\n",
       "end_lng             0\n",
       "member_casual       0\n",
       "dtype: int64"
      ]
     },
     "execution_count": 19,
     "metadata": {},
     "output_type": "execute_result"
    }
   ],
   "source": [
    "dataset.isnull().sum()"
   ]
  },
  {
   "cell_type": "code",
   "execution_count": 20,
   "metadata": {},
   "outputs": [
    {
     "data": {
      "text/plain": [
       "<matplotlib.axes._subplots.AxesSubplot at 0x15835145348>"
      ]
     },
     "execution_count": 20,
     "metadata": {},
     "output_type": "execute_result"
    },
    {
     "data": {
      "image/png": "[encoded data removed]",
      "text/plain": [
       "<Figure size 432x288 with 2 Axes>"
      ]
     },
     "metadata": {
      "needs_background": "light"
     },
     "output_type": "display_data"
    }
   ],
   "source": [
    "sns.heatmap(dataset.isnull())"
   ]
  },
  {
   "cell_type": "code",
   "execution_count": 21,
   "metadata": {},
   "outputs": [
    {
     "data": {
      "text/html": [
       "<div>\n",
       "<style scoped>\n",
       "    .dataframe tbody tr th:only-of-type {\n",
       "        vertical-align: middle;\n",
       "    }\n",
       "\n",
       "    .dataframe tbody tr th {\n",
       "        vertical-align: top;\n",
       "    }\n",
       "\n",
       "    .dataframe thead th {\n",
       "        text-align: right;\n",
       "    }\n",
       "</style>\n",
       "<table border=\"1\" class=\"dataframe\">\n",
       "  <thead>\n",
       "    <tr style=\"text-align: right;\">\n",
       "      <th></th>\n",
       "      <th>rideable_type</th>\n",
       "      <th>start_station_id</th>\n",
       "      <th>end_station_id</th>\n",
       "      <th>start_lat</th>\n",
       "      <th>start_lng</th>\n",
       "      <th>end_lat</th>\n",
       "      <th>end_lng</th>\n",
       "      <th>member_casual</th>\n",
       "    </tr>\n",
       "  </thead>\n",
       "  <tbody>\n",
       "    <tr>\n",
       "      <th>0</th>\n",
       "      <td>docked_bike</td>\n",
       "      <td>642.0</td>\n",
       "      <td>368.0</td>\n",
       "      <td>38.924144</td>\n",
       "      <td>-77.002098</td>\n",
       "      <td>38.920682</td>\n",
       "      <td>-76.995876</td>\n",
       "      <td>member</td>\n",
       "    </tr>\n",
       "    <tr>\n",
       "      <th>1</th>\n",
       "      <td>docked_bike</td>\n",
       "      <td>289.0</td>\n",
       "      <td>642.0</td>\n",
       "      <td>38.908490</td>\n",
       "      <td>-77.063586</td>\n",
       "      <td>38.924144</td>\n",
       "      <td>-77.002098</td>\n",
       "      <td>member</td>\n",
       "    </tr>\n",
       "    <tr>\n",
       "      <th>2</th>\n",
       "      <td>docked_bike</td>\n",
       "      <td>269.0</td>\n",
       "      <td>269.0</td>\n",
       "      <td>38.902204</td>\n",
       "      <td>-77.043370</td>\n",
       "      <td>38.902204</td>\n",
       "      <td>-77.043370</td>\n",
       "      <td>member</td>\n",
       "    </tr>\n",
       "    <tr>\n",
       "      <th>3</th>\n",
       "      <td>docked_bike</td>\n",
       "      <td>269.0</td>\n",
       "      <td>199.0</td>\n",
       "      <td>38.902204</td>\n",
       "      <td>-77.043370</td>\n",
       "      <td>38.902400</td>\n",
       "      <td>-77.026220</td>\n",
       "      <td>member</td>\n",
       "    </tr>\n",
       "    <tr>\n",
       "      <th>4</th>\n",
       "      <td>docked_bike</td>\n",
       "      <td>152.0</td>\n",
       "      <td>102.0</td>\n",
       "      <td>38.907740</td>\n",
       "      <td>-77.071652</td>\n",
       "      <td>38.902221</td>\n",
       "      <td>-77.059219</td>\n",
       "      <td>casual</td>\n",
       "    </tr>\n",
       "  </tbody>\n",
       "</table>\n",
       "</div>"
      ],
      "text/plain": [
       "  rideable_type  start_station_id  end_station_id  start_lat  start_lng  \\\n",
       "0   docked_bike             642.0           368.0  38.924144 -77.002098   \n",
       "1   docked_bike             289.0           642.0  38.908490 -77.063586   \n",
       "2   docked_bike             269.0           269.0  38.902204 -77.043370   \n",
       "3   docked_bike             269.0           199.0  38.902204 -77.043370   \n",
       "4   docked_bike             152.0           102.0  38.907740 -77.071652   \n",
       "\n",
       "     end_lat    end_lng member_casual  \n",
       "0  38.920682 -76.995876        member  \n",
       "1  38.924144 -77.002098        member  \n",
       "2  38.902204 -77.043370        member  \n",
       "3  38.902400 -77.026220        member  \n",
       "4  38.902221 -77.059219        casual  "
      ]
     },
     "execution_count": 21,
     "metadata": {},
     "output_type": "execute_result"
    }
   ],
   "source": [
    "dataset.head()"
   ]
  },
  {
   "cell_type": "code",
   "execution_count": 22,
   "metadata": {},
   "outputs": [],
   "source": [
    "from sklearn.preprocessing import LabelEncoder"
   ]
  },
  {
   "cell_type": "code",
   "execution_count": 23,
   "metadata": {},
   "outputs": [],
   "source": [
    "enc=LabelEncoder()"
   ]
  },
  {
   "cell_type": "code",
   "execution_count": 24,
   "metadata": {},
   "outputs": [],
   "source": [
    "dataset['rideable_type']=enc.fit_transform(dataset['rideable_type'])\n",
    "dataset['member_casual']=enc.fit_transform(dataset['member_casual'])"
   ]
  },
  {
   "cell_type": "code",
   "execution_count": 25,
   "metadata": {},
   "outputs": [
    {
     "data": {
      "text/html": [
       "<div>\n",
       "<style scoped>\n",
       "    .dataframe tbody tr th:only-of-type {\n",
       "        vertical-align: middle;\n",
       "    }\n",
       "\n",
       "    .dataframe tbody tr th {\n",
       "        vertical-align: top;\n",
       "    }\n",
       "\n",
       "    .dataframe thead th {\n",
       "        text-align: right;\n",
       "    }\n",
       "</style>\n",
       "<table border=\"1\" class=\"dataframe\">\n",
       "  <thead>\n",
       "    <tr style=\"text-align: right;\">\n",
       "      <th></th>\n",
       "      <th>rideable_type</th>\n",
       "      <th>start_station_id</th>\n",
       "      <th>end_station_id</th>\n",
       "      <th>start_lat</th>\n",
       "      <th>start_lng</th>\n",
       "      <th>end_lat</th>\n",
       "      <th>end_lng</th>\n",
       "      <th>member_casual</th>\n",
       "    </tr>\n",
       "  </thead>\n",
       "  <tbody>\n",
       "    <tr>\n",
       "      <th>0</th>\n",
       "      <td>0</td>\n",
       "      <td>642.0</td>\n",
       "      <td>368.0</td>\n",
       "      <td>38.924144</td>\n",
       "      <td>-77.002098</td>\n",
       "      <td>38.920682</td>\n",
       "      <td>-76.995876</td>\n",
       "      <td>1</td>\n",
       "    </tr>\n",
       "    <tr>\n",
       "      <th>1</th>\n",
       "      <td>0</td>\n",
       "      <td>289.0</td>\n",
       "      <td>642.0</td>\n",
       "      <td>38.908490</td>\n",
       "      <td>-77.063586</td>\n",
       "      <td>38.924144</td>\n",
       "      <td>-77.002098</td>\n",
       "      <td>1</td>\n",
       "    </tr>\n",
       "    <tr>\n",
       "      <th>2</th>\n",
       "      <td>0</td>\n",
       "      <td>269.0</td>\n",
       "      <td>269.0</td>\n",
       "      <td>38.902204</td>\n",
       "      <td>-77.043370</td>\n",
       "      <td>38.902204</td>\n",
       "      <td>-77.043370</td>\n",
       "      <td>1</td>\n",
       "    </tr>\n",
       "    <tr>\n",
       "      <th>3</th>\n",
       "      <td>0</td>\n",
       "      <td>269.0</td>\n",
       "      <td>199.0</td>\n",
       "      <td>38.902204</td>\n",
       "      <td>-77.043370</td>\n",
       "      <td>38.902400</td>\n",
       "      <td>-77.026220</td>\n",
       "      <td>1</td>\n",
       "    </tr>\n",
       "    <tr>\n",
       "      <th>4</th>\n",
       "      <td>0</td>\n",
       "      <td>152.0</td>\n",
       "      <td>102.0</td>\n",
       "      <td>38.907740</td>\n",
       "      <td>-77.071652</td>\n",
       "      <td>38.902221</td>\n",
       "      <td>-77.059219</td>\n",
       "      <td>0</td>\n",
       "    </tr>\n",
       "  </tbody>\n",
       "</table>\n",
       "</div>"
      ],
      "text/plain": [
       "   rideable_type  start_station_id  end_station_id  start_lat  start_lng  \\\n",
       "0              0             642.0           368.0  38.924144 -77.002098   \n",
       "1              0             289.0           642.0  38.908490 -77.063586   \n",
       "2              0             269.0           269.0  38.902204 -77.043370   \n",
       "3              0             269.0           199.0  38.902204 -77.043370   \n",
       "4              0             152.0           102.0  38.907740 -77.071652   \n",
       "\n",
       "     end_lat    end_lng  member_casual  \n",
       "0  38.920682 -76.995876              1  \n",
       "1  38.924144 -77.002098              1  \n",
       "2  38.902204 -77.043370              1  \n",
       "3  38.902400 -77.026220              1  \n",
       "4  38.902221 -77.059219              0  "
      ]
     },
     "execution_count": 25,
     "metadata": {},
     "output_type": "execute_result"
    }
   ],
   "source": [
    "dataset.head()"
   ]
  },
  {
   "cell_type": "code",
   "execution_count": 26,
   "metadata": {},
   "outputs": [],
   "source": [
    "from sklearn.tree import DecisionTreeClassifier\n",
    "from sklearn.model_selection import train_test_split"
   ]
  },
  {
   "cell_type": "code",
   "execution_count": 27,
   "metadata": {},
   "outputs": [],
   "source": [
    "x_data=dataset[['rideable_type','start_station_id','end_station_id','start_lat','start_lng','end_lat','end_lng']]\n",
    "y_data=dataset[['member_casual']]"
   ]
  },
  {
   "cell_type": "code",
   "execution_count": 28,
   "metadata": {},
   "outputs": [],
   "source": [
    "x_data=np.array(x_data)\n",
    "y_data=np.array(y_data)"
   ]
  },
  {
   "cell_type": "code",
   "execution_count": 29,
   "metadata": {},
   "outputs": [
    {
     "name": "stdout",
     "output_type": "stream",
     "text": [
      "(213995, 7)\n",
      "(213995, 1)\n"
     ]
    }
   ],
   "source": [
    "print(x_data.shape)\n",
    "print(y_data.shape)"
   ]
  },
  {
   "cell_type": "code",
   "execution_count": 30,
   "metadata": {},
   "outputs": [],
   "source": [
    "X_train,X_test,Y_train,Y_test=train_test_split(x_data,y_data,test_size=0.2)"
   ]
  },
  {
   "cell_type": "code",
   "execution_count": 31,
   "metadata": {},
   "outputs": [
    {
     "name": "stdout",
     "output_type": "stream",
     "text": [
      "(42799, 7)\n",
      "(171196, 7)\n",
      "(42799, 1)\n",
      "(171196, 1)\n"
     ]
    }
   ],
   "source": [
    "print(X_test.shape)\n",
    "print(X_train.shape)\n",
    "print(Y_test.shape)\n",
    "print(Y_train.shape)"
   ]
  },
  {
   "cell_type": "code",
   "execution_count": 32,
   "metadata": {},
   "outputs": [],
   "source": [
    "model=DecisionTreeClassifier(random_state=0)"
   ]
  },
  {
   "cell_type": "code",
   "execution_count": 33,
   "metadata": {},
   "outputs": [
    {
     "data": {
      "text/plain": [
       "DecisionTreeClassifier(ccp_alpha=0.0, class_weight=None, criterion='gini',\n",
       "                       max_depth=None, max_features=None, max_leaf_nodes=None,\n",
       "                       min_impurity_decrease=0.0, min_impurity_split=None,\n",
       "                       min_samples_leaf=1, min_samples_split=2,\n",
       "                       min_weight_fraction_leaf=0.0, presort='deprecated',\n",
       "                       random_state=0, splitter='best')"
      ]
     },
     "execution_count": 33,
     "metadata": {},
     "output_type": "execute_result"
    }
   ],
   "source": [
    "model.fit(X_train,Y_train)"
   ]
  },
  {
   "cell_type": "code",
   "execution_count": 34,
   "metadata": {},
   "outputs": [
    {
     "data": {
      "text/plain": [
       "array([0, 0, 0, ..., 0, 1, 1])"
      ]
     },
     "execution_count": 34,
     "metadata": {},
     "output_type": "execute_result"
    }
   ],
   "source": [
    "predictions=model.predict(X_test)\n",
    "predictions"
   ]
  },
  {
   "cell_type": "code",
   "execution_count": 35,
   "metadata": {},
   "outputs": [
    {
     "data": {
      "text/plain": [
       "array(['casual', 'casual', 'casual', ..., 'casual', 'member', 'member'],\n",
       "      dtype=object)"
      ]
     },
     "execution_count": 35,
     "metadata": {},
     "output_type": "execute_result"
    }
   ],
   "source": [
    "label_pred=enc.inverse_transform(predictions)\n",
    "label_pred"
   ]
  },
  {
   "cell_type": "code",
   "execution_count": 36,
   "metadata": {},
   "outputs": [
    {
     "name": "stdout",
     "output_type": "stream",
     "text": [
      "0.6793616673286759\n"
     ]
    }
   ],
   "source": [
    "score=model.score(X_test,Y_test)\n",
    "print(score)"
   ]
  },
  {
   "cell_type": "code",
   "execution_count": 37,
   "metadata": {},
   "outputs": [],
   "source": [
    "from sklearn.metrics import accuracy_score,confusion_matrix,plot_confusion_matrix,classification_report"
   ]
  },
  {
   "cell_type": "code",
   "execution_count": 38,
   "metadata": {},
   "outputs": [
    {
     "data": {
      "text/plain": [
       "array([[17459,  5768],\n",
       "       [ 7955, 11617]], dtype=int64)"
      ]
     },
     "execution_count": 38,
     "metadata": {},
     "output_type": "execute_result"
    }
   ],
   "source": [
    "conf=confusion_matrix(Y_test,predictions)\n",
    "conf"
   ]
  },
  {
   "cell_type": "code",
   "execution_count": 39,
   "metadata": {},
   "outputs": [
    {
     "data": {
      "text/plain": [
       "0.6793616673286759"
      ]
     },
     "execution_count": 39,
     "metadata": {},
     "output_type": "execute_result"
    }
   ],
   "source": [
    "acc=accuracy_score(Y_test,predictions)\n",
    "acc"
   ]
  },
  {
   "cell_type": "code",
   "execution_count": 40,
   "metadata": {},
   "outputs": [
    {
     "data": {
      "text/plain": [
       "<sklearn.metrics._plot.confusion_matrix.ConfusionMatrixDisplay at 0x1583cc0e208>"
      ]
     },
     "execution_count": 40,
     "metadata": {},
     "output_type": "execute_result"
    },
    {
     "data": {
      "image/png": "[encoded data removed]",
      "text/plain": [
       "<Figure size 432x288 with 2 Axes>"
      ]
     },
     "metadata": {
      "needs_background": "light"
     },
     "output_type": "display_data"
    }
   ],
   "source": [
    "plot_confusion_matrix(model,X_test,Y_test)"
   ]
  },
  {
   "cell_type": "code",
   "execution_count": 41,
   "metadata": {},
   "outputs": [
    {
     "name": "stdout",
     "output_type": "stream",
     "text": [
      "              precision    recall  f1-score   support\n",
      "\n",
      "           0       0.69      0.75      0.72     23227\n",
      "           1       0.67      0.59      0.63     19572\n",
      "\n",
      "    accuracy                           0.68     42799\n",
      "   macro avg       0.68      0.67      0.67     42799\n",
      "weighted avg       0.68      0.68      0.68     42799\n",
      "\n"
     ]
    }
   ],
   "source": [
    "report=classification_report(Y_test,predictions)\n",
    "print(report)"
   ]
  },
  {
   "cell_type": "code",
   "execution_count": null,
   "metadata": {},
   "outputs": [],
   "source": []
  }
 ],
 "metadata": {
  "kernelspec": {
   "display_name": "Python 3",
   "language": "python",
   "name": "python3"
  },
  "language_info": {
   "codemirror_mode": {
    "name": "ipython",
    "version": 3
   },
   "file_extension": ".py",
   "mimetype": "text/x-python",
   "name": "python",
   "nbconvert_exporter": "python",
   "pygments_lexer": "ipython3",
   "version": "3.7.6"
  }
 },
 "nbformat": 4,
 "nbformat_minor": 4
}
